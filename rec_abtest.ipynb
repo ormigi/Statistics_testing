{
 "cells": [
  {
   "cell_type": "code",
   "execution_count": 4,
   "id": "c6cb01f8",
   "metadata": {},
   "outputs": [],
   "source": [
    "import pandas as pd\n",
    "import matplotlib.pyplot as plt"
   ]
  },
  {
   "cell_type": "markdown",
   "id": "f69f7f84",
   "metadata": {},
   "source": [
    "Title: \"A/B Testing for Screen Guard Sales in Mobile Accessories Marketplace\"\n",
    "\n",
    "Description:\n",
    "In this project, we delve into  A/B testing to optimize the sales strategy for screen guards in a mobile accessories marketplace. Our primary focus is on customers who are already inclined to purchase two items: mobile phones and back covers. The A/B testpurpose = obtain insights regarding the effectiveness of different campaign approaches in promoting screen guards.\n",
    "\n",
    "Hypothesis:\n",
    "The core question driving this analysis is whether the conversion rate (purchase_flag) is influenced by the specific suggestion made during the purchasing process. For instance, we investigate whether suggesting the purchase of a screen guard in conjunction with a mobile phone or a back cover affects the likelihood of a successful sale. \n",
    "The purchase flag becomes our key metric, taking a value of zero when the suggested combination does not result in a sale and one when the customer decides to make the purchase.\n",
    "\n",
    "Objective:\n",
    "Through analysis of the A/B test results, we aim to identify the more successful campaign approach. By understanding the correlation between the suggestion and the subsequent purchase behavior, we can refine our recommendation strategies to maximize conversion rates and enhance the overall sales performance of screen guards in tandem with mobile phones and back covers.\n",
    "\n",
    "Methodology:\n",
    "Our approach involves assessing the conversion rates for each campaign variant and drawing meaningful conclusions from the data. Utilizing statistical methods and visualization tools, we seek to provide actionable insights that can inform future marketing strategies and contribute to the ongoing optimization of screen guard sales in the mobile accessories marketplace.\n",
    "\n",
    "This project is an example for data-driven decision-making in the realm of e-commerce."
   ]
  },
  {
   "cell_type": "code",
   "execution_count": 5,
   "id": "d567f9d5",
   "metadata": {},
   "outputs": [],
   "source": [
    "filepath1 = r'C:..ndation_screencover.xlsx'"
   ]
  },
  {
   "cell_type": "code",
   "execution_count": 7,
   "id": "e587f09b",
   "metadata": {},
   "outputs": [],
   "source": [
    "rec_data = pd.read_excel(filepath1)"
   ]
  },
  {
   "cell_type": "code",
   "execution_count": 8,
   "id": "99409163",
   "metadata": {
    "scrolled": true
   },
   "outputs": [
    {
     "data": {
      "text/html": [
       "<div>\n",
       "<style scoped>\n",
       "    .dataframe tbody tr th:only-of-type {\n",
       "        vertical-align: middle;\n",
       "    }\n",
       "\n",
       "    .dataframe tbody tr th {\n",
       "        vertical-align: top;\n",
       "    }\n",
       "\n",
       "    .dataframe thead th {\n",
       "        text-align: right;\n",
       "    }\n",
       "</style>\n",
       "<table border=\"1\" class=\"dataframe\">\n",
       "  <thead>\n",
       "    <tr style=\"text-align: right;\">\n",
       "      <th></th>\n",
       "      <th>customer_id</th>\n",
       "      <th>Recommendation_name</th>\n",
       "      <th>Recommendation_date</th>\n",
       "      <th>Suggestion_type</th>\n",
       "      <th>Purchase_flag</th>\n",
       "    </tr>\n",
       "  </thead>\n",
       "  <tbody>\n",
       "    <tr>\n",
       "      <th>0</th>\n",
       "      <td>1</td>\n",
       "      <td>Recommend_screenguard</td>\n",
       "      <td>2023-03-07</td>\n",
       "      <td>with phone</td>\n",
       "      <td>0</td>\n",
       "    </tr>\n",
       "    <tr>\n",
       "      <th>1</th>\n",
       "      <td>2</td>\n",
       "      <td>Recommend_screenguard</td>\n",
       "      <td>2023-03-08</td>\n",
       "      <td>with cover</td>\n",
       "      <td>0</td>\n",
       "    </tr>\n",
       "    <tr>\n",
       "      <th>2</th>\n",
       "      <td>3</td>\n",
       "      <td>Recommend_screenguard</td>\n",
       "      <td>2023-03-09</td>\n",
       "      <td>with cover</td>\n",
       "      <td>1</td>\n",
       "    </tr>\n",
       "    <tr>\n",
       "      <th>3</th>\n",
       "      <td>4</td>\n",
       "      <td>Recommend_screenguard</td>\n",
       "      <td>2023-03-10</td>\n",
       "      <td>with cover</td>\n",
       "      <td>1</td>\n",
       "    </tr>\n",
       "    <tr>\n",
       "      <th>4</th>\n",
       "      <td>5</td>\n",
       "      <td>Recommend_screenguard</td>\n",
       "      <td>2023-03-13</td>\n",
       "      <td>with phone</td>\n",
       "      <td>0</td>\n",
       "    </tr>\n",
       "  </tbody>\n",
       "</table>\n",
       "</div>"
      ],
      "text/plain": [
       "   customer_id    Recommendation_name Recommendation_date Suggestion_type  \\\n",
       "0            1  Recommend_screenguard          2023-03-07      with phone   \n",
       "1            2  Recommend_screenguard          2023-03-08      with cover   \n",
       "2            3  Recommend_screenguard          2023-03-09      with cover   \n",
       "3            4  Recommend_screenguard          2023-03-10      with cover   \n",
       "4            5  Recommend_screenguard          2023-03-13      with phone   \n",
       "\n",
       "   Purchase_flag  \n",
       "0              0  \n",
       "1              0  \n",
       "2              1  \n",
       "3              1  \n",
       "4              0  "
      ]
     },
     "execution_count": 8,
     "metadata": {},
     "output_type": "execute_result"
    }
   ],
   "source": [
    "rec_data.head(5)"
   ]
  },
  {
   "cell_type": "markdown",
   "id": "d19b581f",
   "metadata": {},
   "source": [
    "## keep only the first 5 columns:"
   ]
  },
  {
   "cell_type": "code",
   "execution_count": 76,
   "id": "72259d46",
   "metadata": {},
   "outputs": [],
   "source": [
    "# Keep only the first 5 columns\n",
    "#rec_data_cleaned.iloc[:, :5] is used to select all rows (:) and the first 5 columns (:5).\n",
    "r_data = rec_data.iloc[:, :5]"
   ]
  },
  {
   "cell_type": "code",
   "execution_count": 77,
   "id": "3af073c6",
   "metadata": {},
   "outputs": [],
   "source": [
    "# Drop columns with all NaN values\n",
    "#rec_data.dropna(axis=1, how='all')\n",
    "# or, alternatively,     \n",
    "#rec_data.dropna(inplace=True)"
   ]
  },
  {
   "cell_type": "code",
   "execution_count": 78,
   "id": "f5f3389e",
   "metadata": {},
   "outputs": [
    {
     "data": {
      "text/plain": [
       "(362, 5)"
      ]
     },
     "execution_count": 78,
     "metadata": {},
     "output_type": "execute_result"
    }
   ],
   "source": [
    "r_data.shape"
   ]
  },
  {
   "cell_type": "code",
   "execution_count": 79,
   "id": "0d8973c9",
   "metadata": {},
   "outputs": [],
   "source": [
    "# Set display options to show all columns and rows without truncation\n",
    "pd.set_option('display.max_columns', None)"
   ]
  },
  {
   "cell_type": "code",
   "execution_count": 80,
   "id": "29820a9e",
   "metadata": {},
   "outputs": [
    {
     "name": "stdout",
     "output_type": "stream",
     "text": [
      "   customer_id    Recommendation_name Recommendation_date Suggestion_type  \\\n",
      "0            1  Recommend_screenguard          2023-03-07      with phone   \n",
      "1            2  Recommend_screenguard          2023-03-08      with cover   \n",
      "2            3  Recommend_screenguard          2023-03-09      with cover   \n",
      "3            4  Recommend_screenguard          2023-03-10      with cover   \n",
      "4            5  Recommend_screenguard          2023-03-13      with phone   \n",
      "\n",
      "   Purchase_flag  \n",
      "0              0  \n",
      "1              0  \n",
      "2              1  \n",
      "3              1  \n",
      "4              0  \n"
     ]
    }
   ],
   "source": [
    "# Check the resulting DataFrame\n",
    "print(r_data.head())"
   ]
  },
  {
   "cell_type": "code",
   "execution_count": 81,
   "id": "a863fabb",
   "metadata": {},
   "outputs": [
    {
     "name": "stdout",
     "output_type": "stream",
     "text": [
      "   customer_id    recommendation_name recommendation_date suggestion_type  \\\n",
      "0            1  Recommend_screenguard          2023-03-07      with phone   \n",
      "1            2  Recommend_screenguard          2023-03-08      with cover   \n",
      "2            3  Recommend_screenguard          2023-03-09      with cover   \n",
      "3            4  Recommend_screenguard          2023-03-10      with cover   \n",
      "4            5  Recommend_screenguard          2023-03-13      with phone   \n",
      "\n",
      "   purchase_flag  \n",
      "0              0  \n",
      "1              0  \n",
      "2              1  \n",
      "3              1  \n",
      "4              0  \n"
     ]
    }
   ],
   "source": [
    "# Convert column names to lowercase\n",
    "r_data.columns = r_data.columns.str.lower()\n",
    "\n",
    "# Check the DataFrame with lowercase column names\n",
    "print(r_data.head())"
   ]
  },
  {
   "cell_type": "code",
   "execution_count": 82,
   "id": "33c435b9",
   "metadata": {},
   "outputs": [
    {
     "data": {
      "text/plain": [
       "suggestion_type  purchase_flag\n",
       "with cover       1                119\n",
       "                 0                 91\n",
       "with cover       1                  4\n",
       "                 0                  1\n",
       "with phone       0                 88\n",
       "                 1                 59\n",
       "Name: purchase_flag, dtype: int64"
      ]
     },
     "execution_count": 82,
     "metadata": {},
     "output_type": "execute_result"
    }
   ],
   "source": [
    "r_data.groupby(\"suggestion_type\")[\"purchase_flag\"].value_counts()  ##the error is the white spaces"
   ]
  },
  {
   "cell_type": "markdown",
   "id": "599f403e",
   "metadata": {},
   "source": [
    "## REGEX needs to be applied here, to clean the trailing spaces and whitespaces"
   ]
  },
  {
   "cell_type": "code",
   "execution_count": 83,
   "id": "280b2f2c",
   "metadata": {},
   "outputs": [
    {
     "name": "stderr",
     "output_type": "stream",
     "text": [
      "<ipython-input-83-071e6e2feadc>:6: FutureWarning: The default value of regex will change from True to False in a future version.\n",
      "  r_data['suggestion_type'] = r_data['suggestion_type'].apply(lambda x: pd.Series(x).astype(str).str.replace(r'\\s+', ''))\n"
     ]
    }
   ],
   "source": [
    "# In this code:  r'\\s+' is the regular expression pattern that matches one or more whitespace characters.\n",
    "# str.replace(r'\\s+', '') is used to replace all occurrences of one or more whitespace characters with an empty string.\n",
    "# apply is used to apply this replacement to each element in the 'suggestion_type' column.\n",
    "# This will remove both leading and trailing spaces as well as any inner spaces within the strings in the 'suggestion_type' column.\n",
    "\n",
    "r_data['suggestion_type'] = r_data['suggestion_type'].apply(lambda x: pd.Series(x).astype(str).str.replace(r'\\s+', ''))\n"
   ]
  },
  {
   "cell_type": "code",
   "execution_count": 84,
   "id": "2336b0fd",
   "metadata": {},
   "outputs": [
    {
     "data": {
      "text/plain": [
       "suggestion_type  purchase_flag\n",
       "withcover        1                123\n",
       "                 0                 92\n",
       "withphone        0                 88\n",
       "                 1                 59\n",
       "Name: purchase_flag, dtype: int64"
      ]
     },
     "execution_count": 84,
     "metadata": {},
     "output_type": "execute_result"
    }
   ],
   "source": [
    "r_data.groupby(\"suggestion_type\")[\"purchase_flag\"].value_counts()\n",
    "\n",
    "#with cover, no purchase is 116  and when you recommended, with cover, purchase was 102\n",
    "#which makes in total the recommended with cover to be  116 +102  out of this, how many times people bought the product? 102 times\n",
    "#with phone you recommended 91+61, but people bought 61"
   ]
  },
  {
   "cell_type": "code",
   "execution_count": 85,
   "id": "0a712d88",
   "metadata": {},
   "outputs": [
    {
     "data": {
      "text/plain": [
       "array([[ 92, 123],\n",
       "       [ 88,  59]], dtype=int64)"
      ]
     },
     "execution_count": 85,
     "metadata": {},
     "output_type": "execute_result"
    }
   ],
   "source": [
    "## building the contingency table which relates to the labels 0 and 1, which is applicable in case of the two categorical variables\n",
    "#we build this contingency table showing who bought and who didnt buy\n",
    "CT_values = pd.crosstab(r_data[\"suggestion_type\"], r_data[\"purchase_flag\"]).values\n",
    "CT_values"
   ]
  },
  {
   "cell_type": "markdown",
   "id": "ba5fd7ba",
   "metadata": {},
   "source": [
    "## PURCHASE RATE, shows that there is a difference of 0.06 in the rates of selling, due to recommendations made"
   ]
  },
  {
   "cell_type": "code",
   "execution_count": 86,
   "id": "44e76b75",
   "metadata": {},
   "outputs": [
    {
     "name": "stdout",
     "output_type": "stream",
     "text": [
      "0.47093023255813954 0.41414141414141414\n"
     ]
    }
   ],
   "source": [
    "#once we have the contingency table, we can calculate the purchase rate:\n",
    "\n",
    "with_phone_rate = 88 / (12 + 81)\n",
    "\n",
    "with_cover_rate = 82 / (116 + 82)\n",
    "print(with_phone_rate, with_cover_rate)"
   ]
  },
  {
   "cell_type": "markdown",
   "id": "32c45086",
   "metadata": {},
   "source": [
    "# CHI _ SQUARE TESTING  and HYPOTHESIS TESTING"
   ]
  },
  {
   "cell_type": "code",
   "execution_count": null,
   "id": "2130eb1e",
   "metadata": {},
   "outputs": [],
   "source": [
    "# Null Hypothesis: PURCHASE RATE IS ALWAYS THE SAME, REGARDLESS OF ANY RECCOMENDATION_TYPE YOU MIGHT HAVE MADE. The 2 variables  are independent.\n",
    "# Alternative Hypothesis:THERE IS A RELATIONSHIP BETWEEN PURCHASE_RATE AND RECCOMENDATION _TYPE, they are not independent"
   ]
  },
  {
   "cell_type": "code",
   "execution_count": 67,
   "id": "b6cdf0aa",
   "metadata": {},
   "outputs": [],
   "source": [
    "from scipy.stats import chi2_contingency\n"
   ]
  },
  {
   "cell_type": "code",
   "execution_count": 68,
   "id": "51eaf2ad",
   "metadata": {},
   "outputs": [
    {
     "name": "stdout",
     "output_type": "stream",
     "text": [
      "1.6104776750309888 0.20442466871755294\n"
     ]
    }
   ],
   "source": [
    "chi2_statistic, p_value, dof, expected_values = chi2_contingency(CT_values, correction = False)\n",
    "print(chi2_statistic, p_value)"
   ]
  },
  {
   "cell_type": "code",
   "execution_count": null,
   "id": "73ce8d88",
   "metadata": {},
   "outputs": [],
   "source": [
    "#The test shows whether there's a significant difference in the  behaviour of frequencies  or not"
   ]
  },
  {
   "cell_type": "code",
   "execution_count": 65,
   "id": "2ef798d2",
   "metadata": {},
   "outputs": [
    {
     "name": "stdout",
     "output_type": "stream",
     "text": [
      "significance = 0.010, p=0.204\n",
      "Independent, no sufficient evidence to reject H0\n"
     ]
    }
   ],
   "source": [
    "prob = 0.95\n",
    "alpha = 1.0 - prob\n",
    "print('significance = %.3f, p=%.3f' %(alpha, p_value))\n",
    "\n",
    "if p_value <= alpha:\n",
    "    print(\"Dependent, we can reject H0 safely\")\n",
    "else:\n",
    "    print(\"Independent, no sufficient evidence to reject H0\")"
   ]
  },
  {
   "cell_type": "markdown",
   "id": "411709c6",
   "metadata": {},
   "source": [
    "###  Meaning that making a reccomendation did help, purchase rate depends on this. NB: if we change the excel file, so that the p_value is less than alpha, the outcome of hypothesis testing changes.\n"
   ]
  },
  {
   "cell_type": "code",
   "execution_count": null,
   "id": "3485ddf1",
   "metadata": {},
   "outputs": [],
   "source": []
  },
  {
   "cell_type": "code",
   "execution_count": null,
   "id": "435f7e64",
   "metadata": {},
   "outputs": [],
   "source": []
  },
  {
   "cell_type": "code",
   "execution_count": null,
   "id": "3da787d7",
   "metadata": {},
   "outputs": [],
   "source": []
  }
 ],
 "metadata": {
  "kernelspec": {
   "display_name": "Python 3",
   "language": "python",
   "name": "python3"
  },
  "language_info": {
   "codemirror_mode": {
    "name": "ipython",
    "version": 3
   },
   "file_extension": ".py",
   "mimetype": "text/x-python",
   "name": "python",
   "nbconvert_exporter": "python",
   "pygments_lexer": "ipython3",
   "version": "3.8.8"
  }
 },
 "nbformat": 4,
 "nbformat_minor": 5
}
